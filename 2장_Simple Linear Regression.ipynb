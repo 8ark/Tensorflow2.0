{
 "cells": [
  {
   "cell_type": "code",
   "execution_count": 3,
   "metadata": {},
   "outputs": [
    {
     "name": "stdout",
     "output_type": "stream",
     "text": [
      "2.0.0-alpha0\n"
     ]
    }
   ],
   "source": [
    "import tensorflow as tf\n",
    "import numpy as np\n",
    "\n",
    "print(tf.__version__) # 텐서 버전 체크"
   ]
  },
  {
   "cell_type": "markdown",
   "metadata": {},
   "source": [
    "## Hypothesis 와 Cost"
   ]
  },
  {
   "cell_type": "markdown",
   "metadata": {},
   "source": [
    "#### Hypothesis는 가설, 예측값으로 모델링을 통해 예측한 위치를 생각하면 된다.\n",
    "#### W = weight 값으로 가중치, b = bias로 편차, 빼기도 한다."
   ]
  },
  {
   "cell_type": "markdown",
   "metadata": {},
   "source": [
    "$$ H(x) = Wx + b $$"
   ]
  },
  {
   "cell_type": "markdown",
   "metadata": {},
   "source": [
    "#### Cost는 비용, 실제값과 예측값의 차이로 오차라 생각하면 된다.\n",
    "$$ cost(W)=\\frac { 1 }{ m } \\sum _{i=1}^{m}{ { (W{ x }^{ i }-y^{ i } })^{ 2 } }  $$"
   ]
  },
  {
   "cell_type": "markdown",
   "metadata": {},
   "source": [
    "#### Cost를 구하기 위해 우리는 제곱하는 방법과 평균을 내는 방법을 알아야 한다."
   ]
  },
  {
   "cell_type": "code",
   "execution_count": 4,
   "metadata": {},
   "outputs": [
    {
     "data": {
      "text/plain": [
       "<tf.Tensor: id=6, shape=(), dtype=float32, numpy=2.5>"
      ]
     },
     "execution_count": 4,
     "metadata": {},
     "output_type": "execute_result"
    }
   ],
   "source": [
    "v = [1., 2., 3., 4.] # 숫자 뒤에 .을 붙이는 것은 실수로 인식하게 위함\n",
    "tf.reduce_mean(v) # 2.5가 나온다. 평균값이다. "
   ]
  },
  {
   "cell_type": "code",
   "execution_count": 5,
   "metadata": {},
   "outputs": [
    {
     "data": {
      "text/plain": [
       "<tf.Tensor: id=9, shape=(), dtype=int32, numpy=9>"
      ]
     },
     "execution_count": 5,
     "metadata": {},
     "output_type": "execute_result"
    }
   ],
   "source": [
    "tf.square(3) # square 는 제곱"
   ]
  },
  {
   "cell_type": "code",
   "execution_count": 6,
   "metadata": {},
   "outputs": [],
   "source": [
    "x_data = [1, 2, 3, 4, 5]\n",
    "y_data = [1, 2, 3, 4, 5]\n",
    "\n",
    "W = tf.Variable(2.0) # 초기 weight 값을 2로 설정한다.\n",
    "b = tf.Variable(0.5) # 초기 bias 값을 0.5로 설정한다.\n",
    "\n",
    "hypothesis = W * x_data + b # 설정한 W와 b를 기반으로 Hypothesis의 식을 설정"
   ]
  },
  {
   "cell_type": "code",
   "execution_count": 7,
   "metadata": {},
   "outputs": [
    {
     "data": {
      "text/plain": [
       "(2.0, 0.5)"
      ]
     },
     "execution_count": 7,
     "metadata": {},
     "output_type": "execute_result"
    }
   ],
   "source": [
    "W.numpy(), b.numpy() # numpy를 통해 W와 b값을 체크"
   ]
  },
  {
   "cell_type": "code",
   "execution_count": 8,
   "metadata": {},
   "outputs": [
    {
     "data": {
      "text/plain": [
       "array([ 2.5,  4.5,  6.5,  8.5, 10.5], dtype=float32)"
      ]
     },
     "execution_count": 8,
     "metadata": {},
     "output_type": "execute_result"
    }
   ],
   "source": [
    "hypothesis.numpy() # 각 array별 hypothesis 값 노출"
   ]
  },
  {
   "cell_type": "markdown",
   "metadata": {},
   "source": [
    "#### 그래프로 상황을 그려보자"
   ]
  },
  {
   "cell_type": "code",
   "execution_count": 9,
   "metadata": {},
   "outputs": [
    {
     "data": {
      "image/png": "[encoded data removed]",
      "text/plain": [
       "<Figure size 432x288 with 1 Axes>"
      ]
     },
     "metadata": {
      "needs_background": "light"
     },
     "output_type": "display_data"
    }
   ],
   "source": [
    "import matplotlib.pyplot as plt\n",
    "plt.plot(x_data, y_data, 'o')   # X축은 x_data, Y축은 y_data의 값을 넣고 마킹은 'o'로\n",
    "plt.plot(x_data, hypothesis, 'r-')   # X축은 x_data, Y축은 hypothesis를 넣고 마킹은 '직선'으로\n",
    "plt.ylim(0, 8) # 그림의 범위를 지정, y축으로 0부터 8까지\n",
    "plt.show() # 없어도 그래프가 뜨기는 하지만 깔끔하게 보려면"
   ]
  },
  {
   "cell_type": "markdown",
   "metadata": {},
   "source": [
    "#### 저 선은 예측값이고 점은 실제값이다.\n",
    "#### X축을 기준으로 보았을 때, 계속 오차가 벌어지는 게 보인다."
   ]
  },
  {
   "cell_type": "markdown",
   "metadata": {},
   "source": [
    "## Cost"
   ]
  },
  {
   "cell_type": "markdown",
   "metadata": {},
   "source": [
    "#### Cost는 저 오차를 다 합쳐서 평균낸 것, 그런데 왜 제곱을 하냐면!\n",
    "#### 지금처럼 점이 아래에 다 몰린 게 아니라 선 위로도 갔으면 오차가 - + 로 들쭉날쭉한다.\n",
    "#### 그러니까 거리 기준으로 확실히 하도록 제곱한 값을 쓰는 것"
   ]
  },
  {
   "cell_type": "code",
   "execution_count": 10,
   "metadata": {},
   "outputs": [],
   "source": [
    "cost = tf.reduce_mean(tf.square(hypothesis - y_data))"
   ]
  },
  {
   "cell_type": "code",
   "execution_count": 11,
   "metadata": {},
   "outputs": [
    {
     "data": {
      "text/plain": [
       "(25.0, 7.0)"
      ]
     },
     "execution_count": 11,
     "metadata": {},
     "output_type": "execute_result"
    }
   ],
   "source": [
    "with tf.GradientTape() as tape: # 컨텍스트 안에서 실행된 모든 변수를 tape에 기록\n",
    "    hypothesis = W * x_data + b  # 이 식의 변수는 W와 b\n",
    "    cost = tf.reduce_mean(tf.square(hypothesis - y_data)) \n",
    "    \n",
    "W_grad, b_grad = tape.gradient(cost, [W, b]) # tape.gradient( 이 식 안의, 이 변수를 찾아서 미분한다음 왼쪽으로 넘겨라)\n",
    "W_grad.numpy(), b_grad.numpy() # W와 b의 gradient값 체크 # # https://to-chelin.com/%eb%a8%b9%ed%8a%80%ec%82%ac%ec%9d%b4%ed%8a%b8/"
   ]
  },
  {
   "cell_type": "markdown",
   "metadata": {},
   "source": [
    "## 파라미터 업데이트"
   ]
  },
  {
   "cell_type": "code",
   "execution_count": 12,
   "metadata": {},
   "outputs": [
    {
     "data": {
      "text/plain": [
       "(1.75, 0.43)"
      ]
     },
     "execution_count": 12,
     "metadata": {},
     "output_type": "execute_result"
    }
   ],
   "source": [
    "learning_rate = 0.01 # 학습률을 설정한다.\n",
    "\n",
    "W.assign_sub(learning_rate * W_grad) # learning rate를 W의 기울기에 곱하고, 그 값을 W의 새로운 값에 넣어준다.\n",
    "b.assign_sub(learning_rate * b_grad) # learning rate를 b의 기울기에 곱하고, 그 값을 b의 새로운 값에 넣어준다.\n",
    "\n",
    "W.numpy(), b.numpy() # 새로 업데이트한 W와 b값을 확인"
   ]
  },
  {
   "cell_type": "code",
   "execution_count": 13,
   "metadata": {},
   "outputs": [
    {
     "data": {
      "text/plain": [
       "(0, 8)"
      ]
     },
     "execution_count": 13,
     "metadata": {},
     "output_type": "execute_result"
    },
    {
     "data": {
      "image/png": "[encoded data removed]",
      "text/plain": [
       "<Figure size 432x288 with 1 Axes>"
      ]
     },
     "metadata": {
      "needs_background": "light"
     },
     "output_type": "display_data"
    }
   ],
   "source": [
    "plt.plot(x_data, hypothesis.numpy(), 'r-') # 확인하기 어렵겠지만 조금은 선이 내려갔을 거다. (아마도...?)\n",
    "plt.plot(x_data, y_data, 'o')\n",
    "plt.ylim(0, 8)"
   ]
  },
  {
   "cell_type": "markdown",
   "metadata": {},
   "source": [
    "## 이걸 반복해보자"
   ]
  },
  {
   "cell_type": "code",
   "execution_count": 18,
   "metadata": {},
   "outputs": [
    {
     "name": "stdout",
     "output_type": "stream",
     "text": [
      "    0 |     2.4520 |     0.3760 |  45.660004\n",
      "   10 |     1.1036 |     0.0034 |   0.206336\n",
      "   20 |     1.0128 |    -0.0209 |   0.001026\n",
      "   30 |     1.0065 |    -0.0218 |   0.000093\n",
      "   40 |     1.0059 |    -0.0212 |   0.000083\n",
      "   50 |     1.0057 |    -0.0205 |   0.000077\n",
      "   60 |     1.0055 |    -0.0198 |   0.000072\n",
      "   70 |     1.0053 |    -0.0192 |   0.000067\n",
      "   80 |     1.0051 |    -0.0185 |   0.000063\n",
      "   90 |     1.0050 |    -0.0179 |   0.000059\n"
     ]
    },
    {
     "data": {
      "text/plain": [
       "(0, 8)"
      ]
     },
     "execution_count": 18,
     "metadata": {},
     "output_type": "execute_result"
    },
    {
     "data": {
      "image/png": "[encoded data removed]",
      "text/plain": [
       "<Figure size 432x288 with 1 Axes>"
      ]
     },
     "metadata": {
      "needs_background": "light"
     },
     "output_type": "display_data"
    }
   ],
   "source": [
    "W = tf.Variable(2.9) # 처음 W의 값을 2.9로 설정\n",
    "b = tf.Variable(0.5) # 처음 b의 값을 0.5로 설정\n",
    "\n",
    "for i in range(100):# 100번 아래의 식을 돌림\n",
    "    with tf.GradientTape() as tape: \n",
    "        hypothesis = W * x_data + b\n",
    "        cost = tf.reduce_mean(tf.square(hypothesis - y_data))\n",
    "    W_grad, b_grad = tape.gradient(cost, [W, b]) # tape안의 cost와 hyporhesis의 gradient(기울기)를 구한다.\n",
    "    W.assign_sub(learning_rate * W_grad)         # learning rate에 W의 기울기를 곱하고 그 값을 W에 추가한다.\n",
    "    b.assign_sub(learning_rate * b_grad)         # learning rate에 b의 기울기를 곱하고 그 값을 b에 추가한다.\n",
    "    if i % 10 == 0: # 10으로 나눠서 나머지가 0인 수, 그러니까 10의 배수이면 아래로 내려간다.\n",
    "        print(\"{:5} | {:10.4f} | {:10.4f} | {: 10.6f}\".format(i, W.numpy(), b.numpy(), cost))  # s늠 문자, d는 정수, f는 실수\n",
    "\n",
    "# 그래프 그리기\n",
    "plt.plot(x_data, y_data, 'o')\n",
    "plt.plot(x_data, hypothesis, 'r-')\n",
    "plt.ylim(0, 8)        "
   ]
  },
  {
   "cell_type": "code",
   "execution_count": 19,
   "metadata": {},
   "outputs": [],
   "source": [
    "#  Gradient Descient 과정을 100번 반복하니\n",
    "#  예측값이 실제값과 동일해졌다."
   ]
  },
  {
   "cell_type": "markdown",
   "metadata": {},
   "source": [
    "### Predict"
   ]
  },
  {
   "cell_type": "code",
   "execution_count": 21,
   "metadata": {},
   "outputs": [
    {
     "name": "stdout",
     "output_type": "stream",
     "text": [
      "tf.Tensor(5.0066934, shape=(), dtype=float32)\n",
      "tf.Tensor(2.4946523, shape=(), dtype=float32)\n"
     ]
    }
   ],
   "source": [
    "print(W * 5 + b)\n",
    "print(W * 2.5 + b)"
   ]
  },
  {
   "cell_type": "code",
   "execution_count": 22,
   "metadata": {},
   "outputs": [],
   "source": [
    "#### 이걸 하는 이유는. loop문이 잘 돌아갔을 경우에\n",
    "#### 결국 b의 값은 0이 되고 w는 1이 되어야 하기 때문\n",
    "#### 결과를 통해 값이 잘 조정된 것을 알 수 있음"
   ]
  }
 ],
 "metadata": {
  "kernelspec": {
   "display_name": "Python 3",
   "language": "python",
   "name": "python3"
  },
  "language_info": {
   "codemirror_mode": {
    "name": "ipython",
    "version": 3
   },
   "file_extension": ".py",
   "mimetype": "text/x-python",
   "name": "python",
   "nbconvert_exporter": "python",
   "pygments_lexer": "ipython3",
   "version": "3.7.3"
  }
 },
 "nbformat": 4,
 "nbformat_minor": 4
}
